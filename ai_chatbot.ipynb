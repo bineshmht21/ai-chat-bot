{
 "cells": [
  {
   "cell_type": "code",
   "execution_count": 2,
   "id": "bb5bd20c-47df-45b6-9516-c8e5fcc7f45a",
   "metadata": {
    "editable": true,
    "slideshow": {
     "slide_type": ""
    },
    "tags": []
   },
   "outputs": [
    {
     "data": {
      "application/vnd.jupyter.widget-view+json": {
       "model_id": "59d8f134f4c64d059dd0fa9a2a1599e9",
       "version_major": 2,
       "version_minor": 0
      },
      "text/plain": [
       "pytorch_model.bin:  41%|####1     | 357M/863M [00:00<?, ?B/s]"
      ]
     },
     "metadata": {},
     "output_type": "display_data"
    },
    {
     "name": "stderr",
     "output_type": "stream",
     "text": [
      "C:\\Users\\BineshMahato\\anaconda3\\envs\\tf_env\\lib\\site-packages\\huggingface_hub\\file_download.py:139: UserWarning: `huggingface_hub` cache-system uses symlinks by default to efficiently store duplicated files but your machine does not support them in C:\\Users\\BineshMahato\\.cache\\huggingface\\hub\\models--microsoft--DialoGPT-medium. Caching files will still work but in a degraded version that might require more space on your disk. This warning can be disabled by setting the `HF_HUB_DISABLE_SYMLINKS_WARNING` environment variable. For more details, see https://huggingface.co/docs/huggingface_hub/how-to-cache#limitations.\n",
      "To support symlinks on Windows, you either need to activate Developer Mode or to run Python as an administrator. In order to activate developer mode, see this article: https://docs.microsoft.com/en-us/windows/apps/get-started/enable-your-device-for-development\n",
      "  )\n"
     ]
    },
    {
     "data": {
      "application/vnd.jupyter.widget-view+json": {
       "model_id": "89335a92828242dbbfbd98bfed991cbe",
       "version_major": 2,
       "version_minor": 0
      },
      "text/plain": [
       "generation_config.json:   0%|          | 0.00/124 [00:00<?, ?B/s]"
      ]
     },
     "metadata": {},
     "output_type": "display_data"
    },
    {
     "data": {
      "application/vnd.jupyter.widget-view+json": {
       "model_id": "5e393a60c4e145a9a997726eb94cfb92",
       "version_major": 2,
       "version_minor": 0
      },
      "text/plain": [
       "tokenizer_config.json:   0%|          | 0.00/614 [00:00<?, ?B/s]"
      ]
     },
     "metadata": {},
     "output_type": "display_data"
    },
    {
     "data": {
      "application/vnd.jupyter.widget-view+json": {
       "model_id": "25bd4d1808ca4618b3b45d6b46e1172a",
       "version_major": 2,
       "version_minor": 0
      },
      "text/plain": [
       "vocab.json:   0%|          | 0.00/1.04M [00:00<?, ?B/s]"
      ]
     },
     "metadata": {},
     "output_type": "display_data"
    },
    {
     "data": {
      "application/vnd.jupyter.widget-view+json": {
       "model_id": "9c44e73f266a47e08f22efe5088871b0",
       "version_major": 2,
       "version_minor": 0
      },
      "text/plain": [
       "merges.txt:   0%|          | 0.00/456k [00:00<?, ?B/s]"
      ]
     },
     "metadata": {},
     "output_type": "display_data"
    }
   ],
   "source": [
    "from transformers import GPT2LMHeadModel, GPT2Tokenizer\n",
    "\n",
    "# Load pre-trained GPT-2 model and tokenizer\n",
    "model_name = \"microsoft/DialoGPT-medium\"  # Pretrained conversational model\n",
    "model = GPT2LMHeadModel.from_pretrained(model_name)\n",
    "tokenizer = GPT2Tokenizer.from_pretrained(model_name)\n",
    "\n",
    "# Add special tokens to the tokenizer (if needed)\n",
    "tokenizer.pad_token = tokenizer.eos_token  # Correctly update the pad_token\n"
   ]
  },
  {
   "cell_type": "code",
   "execution_count": 12,
   "id": "bada0820-ec2b-4e0c-8686-fb7b261bd99a",
   "metadata": {},
   "outputs": [
    {
     "name": "stdout",
     "output_type": "stream",
     "text": [
      "Bot: It's the thing I do.\n"
     ]
    }
   ],
   "source": [
    "import torch\n",
    "\n",
    "# Initialize a list to store conversation history\n",
    "chat_history_ids = None\n",
    "\n",
    "# Function to generate a response\n",
    "def generate_response(user_input):\n",
    "    global chat_history_ids\n",
    "    \n",
    "    # Encode the new user input, add the eos_token and return a tensor in Pytorch\n",
    "    new_user_input_ids = tokenizer.encode(user_input + tokenizer.eos_token, return_tensors='pt')\n",
    "\n",
    "    # Append the new user input tokens to the chat history (if history exists)\n",
    "    bot_input_ids = new_user_input_ids if chat_history_ids is None else torch.cat([chat_history_ids, new_user_input_ids], dim=-1)\n",
    "    \n",
    "    # Generate a response from the model\n",
    "    chat_history_ids = model.generate(\n",
    "        bot_input_ids, \n",
    "        max_length=1000, \n",
    "        pad_token_id=tokenizer.eos_token_id, \n",
    "        temperature=0.7,  # Controls the randomness\n",
    "        top_p=0.9,  # Nucleus sampling\n",
    "        top_k=50,  # Limits the number of highest probability vocabulary tokens\n",
    "        no_repeat_ngram_size=2,  # Prevents repeating n-grams\n",
    "        do_sample=True,  # Samples output\n",
    "        early_stopping=True\n",
    "    )\n",
    "    \n",
    "    # Decode the generated response and remove the chat history part (user input)\n",
    "    chat_history_ids = chat_history_ids[:, len(bot_input_ids[0]):]\n",
    "    bot_output = tokenizer.decode(chat_history_ids[0], skip_special_tokens=True)\n",
    "    \n",
    "    return bot_output\n",
    "\n",
    "# Test the chatbot\n",
    "user_input = \"define love\"\n",
    "bot_response = generate_response(user_input)\n",
    "print(\"Bot:\", bot_response)\n"
   ]
  },
  {
   "cell_type": "code",
   "execution_count": null,
   "id": "77944bbc-94c4-427e-af0e-be170da080ed",
   "metadata": {},
   "outputs": [],
   "source": []
  }
 ],
 "metadata": {
  "kernelspec": {
   "display_name": "Python (tf_env)",
   "language": "python",
   "name": "tf_env"
  },
  "language_info": {
   "codemirror_mode": {
    "name": "ipython",
    "version": 3
   },
   "file_extension": ".py",
   "mimetype": "text/x-python",
   "name": "python",
   "nbconvert_exporter": "python",
   "pygments_lexer": "ipython3",
   "version": "3.9.18"
  }
 },
 "nbformat": 4,
 "nbformat_minor": 5
}
